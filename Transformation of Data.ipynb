{
 "cells": [
  {
   "cell_type": "markdown",
   "id": "4fe00f67",
   "metadata": {},
   "source": [
    "## Data transformation, normalization, and standardization"
   ]
  },
  {
   "cell_type": "markdown",
   "id": "1441d5ec",
   "metadata": {},
   "source": [
    "### Data"
   ]
  },
  {
   "cell_type": "code",
   "execution_count": null,
   "id": "cf4391cb",
   "metadata": {},
   "outputs": [],
   "source": [
    "import pandas as pd\n",
    "import numpy as np"
   ]
  },
  {
   "cell_type": "code",
   "execution_count": 5,
   "id": "f343f477",
   "metadata": {},
   "outputs": [
    {
     "data": {
      "text/html": [
       "<div>\n",
       "<style scoped>\n",
       "    .dataframe tbody tr th:only-of-type {\n",
       "        vertical-align: middle;\n",
       "    }\n",
       "\n",
       "    .dataframe tbody tr th {\n",
       "        vertical-align: top;\n",
       "    }\n",
       "\n",
       "    .dataframe thead th {\n",
       "        text-align: right;\n",
       "    }\n",
       "</style>\n",
       "<table border=\"1\" class=\"dataframe\">\n",
       "  <thead>\n",
       "    <tr style=\"text-align: right;\">\n",
       "      <th></th>\n",
       "      <th>age</th>\n",
       "      <th>sex</th>\n",
       "      <th>cp</th>\n",
       "      <th>trestbps</th>\n",
       "      <th>chol</th>\n",
       "      <th>fbs</th>\n",
       "      <th>restecg</th>\n",
       "      <th>thalach</th>\n",
       "      <th>exang</th>\n",
       "      <th>oldpeak</th>\n",
       "      <th>slope</th>\n",
       "      <th>ca</th>\n",
       "      <th>thal</th>\n",
       "      <th>target</th>\n",
       "    </tr>\n",
       "  </thead>\n",
       "  <tbody>\n",
       "    <tr>\n",
       "      <th>0</th>\n",
       "      <td>63</td>\n",
       "      <td>1</td>\n",
       "      <td>0</td>\n",
       "      <td>145</td>\n",
       "      <td>233</td>\n",
       "      <td>1</td>\n",
       "      <td>2</td>\n",
       "      <td>150</td>\n",
       "      <td>0</td>\n",
       "      <td>2.3</td>\n",
       "      <td>2</td>\n",
       "      <td>0</td>\n",
       "      <td>2</td>\n",
       "      <td>0</td>\n",
       "    </tr>\n",
       "    <tr>\n",
       "      <th>1</th>\n",
       "      <td>67</td>\n",
       "      <td>1</td>\n",
       "      <td>3</td>\n",
       "      <td>160</td>\n",
       "      <td>286</td>\n",
       "      <td>0</td>\n",
       "      <td>2</td>\n",
       "      <td>108</td>\n",
       "      <td>1</td>\n",
       "      <td>1.5</td>\n",
       "      <td>1</td>\n",
       "      <td>3</td>\n",
       "      <td>1</td>\n",
       "      <td>1</td>\n",
       "    </tr>\n",
       "    <tr>\n",
       "      <th>2</th>\n",
       "      <td>67</td>\n",
       "      <td>1</td>\n",
       "      <td>3</td>\n",
       "      <td>120</td>\n",
       "      <td>229</td>\n",
       "      <td>0</td>\n",
       "      <td>2</td>\n",
       "      <td>129</td>\n",
       "      <td>1</td>\n",
       "      <td>2.6</td>\n",
       "      <td>1</td>\n",
       "      <td>2</td>\n",
       "      <td>3</td>\n",
       "      <td>1</td>\n",
       "    </tr>\n",
       "    <tr>\n",
       "      <th>3</th>\n",
       "      <td>37</td>\n",
       "      <td>1</td>\n",
       "      <td>2</td>\n",
       "      <td>130</td>\n",
       "      <td>250</td>\n",
       "      <td>0</td>\n",
       "      <td>0</td>\n",
       "      <td>187</td>\n",
       "      <td>0</td>\n",
       "      <td>3.5</td>\n",
       "      <td>2</td>\n",
       "      <td>0</td>\n",
       "      <td>1</td>\n",
       "      <td>0</td>\n",
       "    </tr>\n",
       "    <tr>\n",
       "      <th>4</th>\n",
       "      <td>41</td>\n",
       "      <td>0</td>\n",
       "      <td>1</td>\n",
       "      <td>130</td>\n",
       "      <td>204</td>\n",
       "      <td>0</td>\n",
       "      <td>2</td>\n",
       "      <td>172</td>\n",
       "      <td>0</td>\n",
       "      <td>1.4</td>\n",
       "      <td>0</td>\n",
       "      <td>0</td>\n",
       "      <td>1</td>\n",
       "      <td>0</td>\n",
       "    </tr>\n",
       "    <tr>\n",
       "      <th>...</th>\n",
       "      <td>...</td>\n",
       "      <td>...</td>\n",
       "      <td>...</td>\n",
       "      <td>...</td>\n",
       "      <td>...</td>\n",
       "      <td>...</td>\n",
       "      <td>...</td>\n",
       "      <td>...</td>\n",
       "      <td>...</td>\n",
       "      <td>...</td>\n",
       "      <td>...</td>\n",
       "      <td>...</td>\n",
       "      <td>...</td>\n",
       "      <td>...</td>\n",
       "    </tr>\n",
       "    <tr>\n",
       "      <th>298</th>\n",
       "      <td>45</td>\n",
       "      <td>1</td>\n",
       "      <td>0</td>\n",
       "      <td>110</td>\n",
       "      <td>264</td>\n",
       "      <td>0</td>\n",
       "      <td>0</td>\n",
       "      <td>132</td>\n",
       "      <td>0</td>\n",
       "      <td>1.2</td>\n",
       "      <td>1</td>\n",
       "      <td>0</td>\n",
       "      <td>3</td>\n",
       "      <td>1</td>\n",
       "    </tr>\n",
       "    <tr>\n",
       "      <th>299</th>\n",
       "      <td>68</td>\n",
       "      <td>1</td>\n",
       "      <td>3</td>\n",
       "      <td>144</td>\n",
       "      <td>193</td>\n",
       "      <td>1</td>\n",
       "      <td>0</td>\n",
       "      <td>141</td>\n",
       "      <td>0</td>\n",
       "      <td>3.4</td>\n",
       "      <td>1</td>\n",
       "      <td>2</td>\n",
       "      <td>3</td>\n",
       "      <td>1</td>\n",
       "    </tr>\n",
       "    <tr>\n",
       "      <th>300</th>\n",
       "      <td>57</td>\n",
       "      <td>1</td>\n",
       "      <td>3</td>\n",
       "      <td>130</td>\n",
       "      <td>131</td>\n",
       "      <td>0</td>\n",
       "      <td>0</td>\n",
       "      <td>115</td>\n",
       "      <td>1</td>\n",
       "      <td>1.2</td>\n",
       "      <td>1</td>\n",
       "      <td>1</td>\n",
       "      <td>3</td>\n",
       "      <td>1</td>\n",
       "    </tr>\n",
       "    <tr>\n",
       "      <th>301</th>\n",
       "      <td>57</td>\n",
       "      <td>0</td>\n",
       "      <td>1</td>\n",
       "      <td>130</td>\n",
       "      <td>236</td>\n",
       "      <td>0</td>\n",
       "      <td>2</td>\n",
       "      <td>174</td>\n",
       "      <td>0</td>\n",
       "      <td>0.0</td>\n",
       "      <td>1</td>\n",
       "      <td>1</td>\n",
       "      <td>1</td>\n",
       "      <td>1</td>\n",
       "    </tr>\n",
       "    <tr>\n",
       "      <th>302</th>\n",
       "      <td>38</td>\n",
       "      <td>1</td>\n",
       "      <td>2</td>\n",
       "      <td>138</td>\n",
       "      <td>175</td>\n",
       "      <td>0</td>\n",
       "      <td>0</td>\n",
       "      <td>173</td>\n",
       "      <td>0</td>\n",
       "      <td>0.0</td>\n",
       "      <td>0</td>\n",
       "      <td>0</td>\n",
       "      <td>1</td>\n",
       "      <td>0</td>\n",
       "    </tr>\n",
       "  </tbody>\n",
       "</table>\n",
       "<p>303 rows × 14 columns</p>\n",
       "</div>"
      ],
      "text/plain": [
       "     age  sex  cp  trestbps  chol  fbs  restecg  thalach  exang  oldpeak  \\\n",
       "0     63    1   0       145   233    1        2      150      0      2.3   \n",
       "1     67    1   3       160   286    0        2      108      1      1.5   \n",
       "2     67    1   3       120   229    0        2      129      1      2.6   \n",
       "3     37    1   2       130   250    0        0      187      0      3.5   \n",
       "4     41    0   1       130   204    0        2      172      0      1.4   \n",
       "..   ...  ...  ..       ...   ...  ...      ...      ...    ...      ...   \n",
       "298   45    1   0       110   264    0        0      132      0      1.2   \n",
       "299   68    1   3       144   193    1        0      141      0      3.4   \n",
       "300   57    1   3       130   131    0        0      115      1      1.2   \n",
       "301   57    0   1       130   236    0        2      174      0      0.0   \n",
       "302   38    1   2       138   175    0        0      173      0      0.0   \n",
       "\n",
       "     slope  ca  thal  target  \n",
       "0        2   0     2       0  \n",
       "1        1   3     1       1  \n",
       "2        1   2     3       1  \n",
       "3        2   0     1       0  \n",
       "4        0   0     1       0  \n",
       "..     ...  ..   ...     ...  \n",
       "298      1   0     3       1  \n",
       "299      1   2     3       1  \n",
       "300      1   1     3       1  \n",
       "301      1   1     1       1  \n",
       "302      0   0     1       0  \n",
       "\n",
       "[303 rows x 14 columns]"
      ]
     },
     "execution_count": 5,
     "metadata": {},
     "output_type": "execute_result"
    }
   ],
   "source": [
    "data=pd.read_csv(\"Heart_disease_cleveland_new.csv\")\n",
    "data"
   ]
  },
  {
   "cell_type": "code",
   "execution_count": 6,
   "id": "14120c10",
   "metadata": {},
   "outputs": [
    {
     "data": {
      "text/plain": [
       "age         0\n",
       "sex         0\n",
       "cp          0\n",
       "trestbps    0\n",
       "chol        0\n",
       "fbs         0\n",
       "restecg     0\n",
       "thalach     0\n",
       "exang       0\n",
       "oldpeak     0\n",
       "slope       0\n",
       "ca          0\n",
       "thal        0\n",
       "target      0\n",
       "dtype: int64"
      ]
     },
     "execution_count": 6,
     "metadata": {},
     "output_type": "execute_result"
    }
   ],
   "source": [
    "data.isnull().sum()"
   ]
  },
  {
   "cell_type": "code",
   "execution_count": 7,
   "id": "d32aaef9",
   "metadata": {},
   "outputs": [],
   "source": [
    "import seaborn as sns\n",
    "import matplotlib.pyplot as plt\n",
    "import warnings"
   ]
  },
  {
   "cell_type": "markdown",
   "id": "5e9879c7",
   "metadata": {},
   "source": [
    "### Outlier"
   ]
  },
  {
   "cell_type": "code",
   "execution_count": 8,
   "id": "4939eb0b",
   "metadata": {},
   "outputs": [
    {
     "data": {
      "image/png": "[encoded data removed]",
      "text/plain": [
       "<Figure size 1000x500 with 1 Axes>"
      ]
     },
     "metadata": {},
     "output_type": "display_data"
    }
   ],
   "source": [
    "fig, ax = plt.subplots(figsize=(10, 5))\n",
    "sns.boxplot(data=data, ax=ax, palette='Set3')\n",
    "ax.set_title('Boxplot of Data', color='blue',)\n",
    "ax.tick_params(axis='x', labelrotation=90, colors='red')\n",
    "plt.show()"
   ]
  },
  {
   "cell_type": "code",
   "execution_count": 9,
   "id": "cea3a1bb",
   "metadata": {},
   "outputs": [],
   "source": [
    "def plot_data(dataframe, feature):\n",
    "    warnings.filterwarnings(\"ignore\")\n",
    "    fig, (ax1, ax2) = plt.subplots(1, 2, figsize=(12,4))\n",
    "    sns.boxplot(dataframe[feature], saturation=5.0, width=.25, ax=ax1)\n",
    "    ax1.set_title('Box Plot of Data',color='blue',)\n",
    "    ax1.set_xlabel(feature ,color='red')\n",
    "\n",
    "    sns.distplot(dataframe[feature], kde=True, rug=True, color='blue',\n",
    "                 kde_kws={\"color\": \"red\", \"lw\": 2, \"alpha\": 0.7},\n",
    "                 hist_kws={\"linewidth\":.5, \"alpha\": 0.25}, ax=ax2)\n",
    "    ax2.set_title('Distribution Plot of Data',color='blue',)\n",
    "    ax2.set_xlabel(feature ,color='red')\n",
    "    plt.show()"
   ]
  },
  {
   "cell_type": "code",
   "execution_count": 10,
   "id": "57bbf4ea",
   "metadata": {},
   "outputs": [
    {
     "data": {
      "image/png": "[encoded data removed]",
      "text/plain": [
       "<Figure size 1200x400 with 2 Axes>"
      ]
     },
     "metadata": {},
     "output_type": "display_data"
    }
   ],
   "source": [
    "plot_data(data, \"oldpeak\")"
   ]
  },
  {
   "cell_type": "code",
   "execution_count": 11,
   "id": "dfe4a4d7",
   "metadata": {},
   "outputs": [
    {
     "data": {
      "image/png": "[encoded data removed]",
      "text/plain": [
       "<Figure size 1200x400 with 2 Axes>"
      ]
     },
     "metadata": {},
     "output_type": "display_data"
    }
   ],
   "source": [
    "plot_data(data, \"age\")"
   ]
  },
  {
   "cell_type": "markdown",
   "id": "1bdb0b71",
   "metadata": {},
   "source": [
    "### Methods of Data Transformation"
   ]
  },
  {
   "cell_type": "markdown",
   "id": "e3eb8c71",
   "metadata": {},
   "source": [
    "### 1.log transformation "
   ]
  },
  {
   "cell_type": "markdown",
   "id": "706ded7f",
   "metadata": {},
   "source": [
    "#### Logarithmic transformation can be used to transform a skewed or non-normal distribution into a more symmetrical or normal distribution, which can make it easier to apply statistical tests or build models that assume a normal distribution. It can also be used to reduce the influence of outliers, since extreme values are often more strongly affected by the transformation."
   ]
  },
  {
   "cell_type": "code",
   "execution_count": 12,
   "id": "1eca6c7c",
   "metadata": {},
   "outputs": [
    {
     "data": {
      "text/plain": [
       "0    0.832909\n",
       "1    0.405465\n",
       "2    0.955511\n",
       "Name: oldpeak_log, dtype: float64"
      ]
     },
     "execution_count": 12,
     "metadata": {},
     "output_type": "execute_result"
    }
   ],
   "source": [
    "data['oldpeak_log'] = np.log(data['oldpeak'])\n",
    "data['oldpeak_log'].head(3)"
   ]
  },
  {
   "cell_type": "markdown",
   "id": "ae857914",
   "metadata": {},
   "source": [
    "### 2.Box-cox Transformation"
   ]
  },
  {
   "cell_type": "markdown",
   "id": "1f006690",
   "metadata": {},
   "source": [
    "##### The Box-Cox transformation involves raising the original data to a power, which is determined by a parameter λ. This power transformation can take many different forms, depending on the value of λ. When λ is 0, the Box-Cox transformation reduces to a natural logarithm transformation, and when λ is 1, it is a simple linear transformation.\n",
    "\n",
    "The optimal value of λ for a given dataset can be estimated using maximum likelihood estimation, which involves fitting a range of values for λ and selecting the value that maximizes the likelihood of the transformed data.  \n",
    "\n",
    "In general, Box-Cox transformation is recommended for data that exhibit positive skewness, meaning that the distribution is skewed to the right, and the tail of the distribution is longer on the positive side. This can be checked by visual inspection of a histogram or by calculating the skewness statistic.\n",
    "\n",
    "The Box-Cox transformation is most effective when the data have moderate to high skewness, but it may not be necessary for data with low skewness. In addition, the transformation is typically applied to continuous data, and may not be suitable for discrete data or data with a lot of zeros."
   ]
  },
  {
   "cell_type": "code",
   "execution_count": 14,
   "id": "3c622dc2",
   "metadata": {},
   "outputs": [],
   "source": [
    "from scipy import stats\n",
    "data1=pd.read_csv(\"Heart_disease_cleveland_new.csv\")\n",
    "data1\n",
    "# Select the column to transform\n",
    "column_to_transform = \"thalach\"\n",
    "\n",
    "# Apply Box-Cox transformation with lambda=0.5\n",
    "transformed_data = stats.boxcox(data1[column_to_transform], lmbda= 2.23)\n",
    "#transformed_data, lambda_value = stats.boxcox(data1[column_to_transform])\n",
    "\n",
    "# Replace the original column with the transformed values\n",
    "data1[column_to_transform] = transformed_data\n",
    "\n"
   ]
  },
  {
   "cell_type": "code",
   "execution_count": 15,
   "id": "aa0979e6",
   "metadata": {},
   "outputs": [
    {
     "data": {
      "text/plain": [
       "0      31942.768045\n",
       "1      15353.854747\n",
       "2      22819.265245\n",
       "3      52227.374077\n",
       "4      43343.011225\n",
       "           ...     \n",
       "298    24019.662212\n",
       "299    27825.742336\n",
       "300    17662.016841\n",
       "301    44474.961597\n",
       "302    43906.974422\n",
       "Name: thalach, Length: 303, dtype: float64"
      ]
     },
     "execution_count": 15,
     "metadata": {},
     "output_type": "execute_result"
    }
   ],
   "source": [
    "data1[column_to_transform]"
   ]
  },
  {
   "cell_type": "markdown",
   "id": "78437302",
   "metadata": {},
   "source": [
    "### 3.Square root transformation"
   ]
  },
  {
   "cell_type": "markdown",
   "id": "335c7962",
   "metadata": {},
   "source": [
    "##### Square root transformation is a type of data transformation that involves taking the square root of each value in a dataset. It is commonly used to stabilize variance and reduce the impact of extreme values in datasets with positive skewness.\n",
    "\n",
    "When a dataset has positive skewness, the mean of the data tends to be larger than the median, and the tail of the distribution is longer on the positive side. This can lead to problems when applying statistical methods that assume the data are normally distributed or have equal variance. Square root transformation can help to address these issues by reducing the impact of extreme values and stabilizing the variance of the data."
   ]
  },
  {
   "cell_type": "code",
   "execution_count": 16,
   "id": "96d64a91",
   "metadata": {},
   "outputs": [
    {
     "data": {
      "text/plain": [
       "0      1.516575\n",
       "1      1.224745\n",
       "2      1.612452\n",
       "3      1.870829\n",
       "4      1.183216\n",
       "         ...   \n",
       "298    1.095445\n",
       "299    1.843909\n",
       "300    1.095445\n",
       "301    0.000000\n",
       "302    0.000000\n",
       "Name: thalach, Length: 303, dtype: float64"
      ]
     },
     "execution_count": 16,
     "metadata": {},
     "output_type": "execute_result"
    }
   ],
   "source": [
    "# Apply square root transformation\n",
    "data1[column_to_transform] = np.sqrt(data1[\"oldpeak\"])\n",
    "\n",
    "data1[column_to_transform]"
   ]
  },
  {
   "cell_type": "markdown",
   "id": "530f95bc",
   "metadata": {},
   "source": [
    "### 4.Reciprocal transformation"
   ]
  },
  {
   "cell_type": "markdown",
   "id": "5174d1f1",
   "metadata": {},
   "source": [
    "##### Reciprocal transformation is a type of data transformation that involves taking the reciprocal of each value in a dataset. The reciprocal of a number is simply 1 divided by that number, so the reciprocal transformation involves replacing each value x in a dataset with 1/x.\n",
    "\n",
    "Reciprocal transformation is often used to transform data with positive skewness, since it can help to make the data more symmetric and closer to a normal distribution. The transformation has the effect of making small values larger and large values smaller, which can help to reduce the impact of extreme values on statistical analyses.\n",
    "\n",
    "One important consideration when using reciprocal transformation is that it is not suitable for datasets that contain zero values, since the reciprocal of zero is not defined. Additionally, the transformation can be sensitive to extreme values, which can cause problems if the data contains outliers or extreme values."
   ]
  },
  {
   "cell_type": "code",
   "execution_count": 17,
   "id": "5bff016c",
   "metadata": {},
   "outputs": [
    {
     "data": {
      "text/plain": [
       "0      0.434783\n",
       "1      0.666667\n",
       "2      0.384615\n",
       "3      0.285714\n",
       "4      0.714286\n",
       "         ...   \n",
       "298    0.833333\n",
       "299    0.294118\n",
       "300    0.833333\n",
       "301         inf\n",
       "302         inf\n",
       "Name: oldpeak_reci, Length: 303, dtype: float64"
      ]
     },
     "execution_count": 17,
     "metadata": {},
     "output_type": "execute_result"
    }
   ],
   "source": [
    "data1[\"oldpeak_reci\"] = 1 / data1[\"oldpeak\"]\n",
    "data1[\"oldpeak_reci\"] "
   ]
  },
  {
   "cell_type": "markdown",
   "id": "09cb5f8c",
   "metadata": {},
   "source": [
    "### 5.Exponential transformation"
   ]
  },
  {
   "cell_type": "markdown",
   "id": "7ba3adbf",
   "metadata": {},
   "source": [
    "#### Exponential transformation is a type of data transformation that involves taking the exponential function of each value in a dataset. The exponential function is a mathematical function that is defined as e^x, where e is a mathematical constant (approximately equal to 2.71828) and x is the value of the input to the function.\n",
    "\n",
    "Exponential transformation can be useful for transforming data that has a skewed distribution, particularly when the skewness is due to the presence of large positive values. The transformation has the effect of compressing the range of values at the high end of the distribution, while expanding the range of values at the low end of the distribution. This can help to make the data more symmetric and closer to a normal distribution, which can improve the performance of statistical models and analyses.\n",
    "\n",
    "It is important to note that exponential transformation can also have some drawbacks, particularly if the data contains negative values. The exponential function is only defined for positive values, so applying the transformation to a dataset that contains negative values can result in undefined values or errors. Additionally, the transformation can be sensitive to extreme values, which can cause problems if the data contains outliers or extreme values."
   ]
  },
  {
   "cell_type": "code",
   "execution_count": 18,
   "id": "1a4ffae8",
   "metadata": {},
   "outputs": [
    {
     "data": {
      "text/plain": [
       "0       9.974182\n",
       "1       4.481689\n",
       "2      13.463738\n",
       "3      33.115452\n",
       "4       4.055200\n",
       "         ...    \n",
       "298     3.320117\n",
       "299    29.964100\n",
       "300     3.320117\n",
       "301     1.000000\n",
       "302     1.000000\n",
       "Name: oldpeak-exponen, Length: 303, dtype: float64"
      ]
     },
     "execution_count": 18,
     "metadata": {},
     "output_type": "execute_result"
    }
   ],
   "source": [
    "data1[\"oldpeak-exponen\"] = np.exp(data1[\"oldpeak\"])\n",
    "data1[\"oldpeak-exponen\"]"
   ]
  },
  {
   "cell_type": "code",
   "execution_count": null,
   "id": "90b75c66",
   "metadata": {},
   "outputs": [],
   "source": []
  },
  {
   "cell_type": "markdown",
   "id": "f7353696",
   "metadata": {},
   "source": [
    "# Normalization"
   ]
  },
  {
   "cell_type": "markdown",
   "id": "83b66c04",
   "metadata": {},
   "source": [
    "### 1.min-max scaling"
   ]
  },
  {
   "cell_type": "markdown",
   "id": "5b8b14f3",
   "metadata": {},
   "source": [
    "#### Min-max scaling is a type of data normalization technique used in machine learning and data analysis. It rescales the features of a dataset so that they have a minimum value of 0 and a maximum value of 1.\n",
    "\n",
    "The formula for min-max scaling is:\n",
    "\n",
    "scaled_value = (value - min_value) / (max_value - min_value)\n",
    "\n",
    "where value is the original value of a feature, min_value is the minimum value of that feature, and max_value is the maximum value of that feature.\n",
    "\n",
    "Min-max scaling is useful when the values of the features in a dataset have different ranges, and we want to rescale them to a common range for comparison. It is also useful when we want to prevent some features from dominating others due to their larger value range.\n",
    "\n",
    "One potential drawback of min-max scaling is that it is sensitive to outliers. If a dataset contains extreme values (outliers), they can affect the scaling of the other features. In such cases, it might be better to use a more robust scaling technique, such as standardization or robust scaling."
   ]
  },
  {
   "cell_type": "code",
   "execution_count": 32,
   "id": "df9c7d3c",
   "metadata": {},
   "outputs": [
    {
     "data": {
      "text/html": [
       "<div>\n",
       "<style scoped>\n",
       "    .dataframe tbody tr th:only-of-type {\n",
       "        vertical-align: middle;\n",
       "    }\n",
       "\n",
       "    .dataframe tbody tr th {\n",
       "        vertical-align: top;\n",
       "    }\n",
       "\n",
       "    .dataframe thead th {\n",
       "        text-align: right;\n",
       "    }\n",
       "</style>\n",
       "<table border=\"1\" class=\"dataframe\">\n",
       "  <thead>\n",
       "    <tr style=\"text-align: right;\">\n",
       "      <th></th>\n",
       "      <th>age</th>\n",
       "      <th>sex</th>\n",
       "      <th>cp</th>\n",
       "      <th>trestbps</th>\n",
       "      <th>chol</th>\n",
       "      <th>fbs</th>\n",
       "      <th>restecg</th>\n",
       "      <th>thalach</th>\n",
       "      <th>exang</th>\n",
       "      <th>oldpeak</th>\n",
       "      <th>slope</th>\n",
       "      <th>ca</th>\n",
       "      <th>thal</th>\n",
       "      <th>target</th>\n",
       "      <th>oldpeak_log</th>\n",
       "    </tr>\n",
       "  </thead>\n",
       "  <tbody>\n",
       "    <tr>\n",
       "      <th>0</th>\n",
       "      <td>0.708333</td>\n",
       "      <td>1.0</td>\n",
       "      <td>0.000000</td>\n",
       "      <td>0.481132</td>\n",
       "      <td>0.244292</td>\n",
       "      <td>1.0</td>\n",
       "      <td>1.0</td>\n",
       "      <td>0.603053</td>\n",
       "      <td>0.0</td>\n",
       "      <td>0.370968</td>\n",
       "      <td>1.0</td>\n",
       "      <td>0.000000</td>\n",
       "      <td>0.5</td>\n",
       "      <td>0.0</td>\n",
       "      <td>0.832909</td>\n",
       "    </tr>\n",
       "    <tr>\n",
       "      <th>1</th>\n",
       "      <td>0.791667</td>\n",
       "      <td>1.0</td>\n",
       "      <td>1.000000</td>\n",
       "      <td>0.622642</td>\n",
       "      <td>0.365297</td>\n",
       "      <td>0.0</td>\n",
       "      <td>1.0</td>\n",
       "      <td>0.282443</td>\n",
       "      <td>1.0</td>\n",
       "      <td>0.241935</td>\n",
       "      <td>0.5</td>\n",
       "      <td>1.000000</td>\n",
       "      <td>0.0</td>\n",
       "      <td>1.0</td>\n",
       "      <td>0.405465</td>\n",
       "    </tr>\n",
       "    <tr>\n",
       "      <th>2</th>\n",
       "      <td>0.791667</td>\n",
       "      <td>1.0</td>\n",
       "      <td>1.000000</td>\n",
       "      <td>0.245283</td>\n",
       "      <td>0.235160</td>\n",
       "      <td>0.0</td>\n",
       "      <td>1.0</td>\n",
       "      <td>0.442748</td>\n",
       "      <td>1.0</td>\n",
       "      <td>0.419355</td>\n",
       "      <td>0.5</td>\n",
       "      <td>0.666667</td>\n",
       "      <td>1.0</td>\n",
       "      <td>1.0</td>\n",
       "      <td>0.955511</td>\n",
       "    </tr>\n",
       "    <tr>\n",
       "      <th>3</th>\n",
       "      <td>0.166667</td>\n",
       "      <td>1.0</td>\n",
       "      <td>0.666667</td>\n",
       "      <td>0.339623</td>\n",
       "      <td>0.283105</td>\n",
       "      <td>0.0</td>\n",
       "      <td>0.0</td>\n",
       "      <td>0.885496</td>\n",
       "      <td>0.0</td>\n",
       "      <td>0.564516</td>\n",
       "      <td>1.0</td>\n",
       "      <td>0.000000</td>\n",
       "      <td>0.0</td>\n",
       "      <td>0.0</td>\n",
       "      <td>1.252763</td>\n",
       "    </tr>\n",
       "    <tr>\n",
       "      <th>4</th>\n",
       "      <td>0.250000</td>\n",
       "      <td>0.0</td>\n",
       "      <td>0.333333</td>\n",
       "      <td>0.339623</td>\n",
       "      <td>0.178082</td>\n",
       "      <td>0.0</td>\n",
       "      <td>1.0</td>\n",
       "      <td>0.770992</td>\n",
       "      <td>0.0</td>\n",
       "      <td>0.225806</td>\n",
       "      <td>0.0</td>\n",
       "      <td>0.000000</td>\n",
       "      <td>0.0</td>\n",
       "      <td>0.0</td>\n",
       "      <td>0.336472</td>\n",
       "    </tr>\n",
       "  </tbody>\n",
       "</table>\n",
       "</div>"
      ],
      "text/plain": [
       "        age  sex        cp  trestbps      chol  fbs  restecg   thalach  exang  \\\n",
       "0  0.708333  1.0  0.000000  0.481132  0.244292  1.0      1.0  0.603053    0.0   \n",
       "1  0.791667  1.0  1.000000  0.622642  0.365297  0.0      1.0  0.282443    1.0   \n",
       "2  0.791667  1.0  1.000000  0.245283  0.235160  0.0      1.0  0.442748    1.0   \n",
       "3  0.166667  1.0  0.666667  0.339623  0.283105  0.0      0.0  0.885496    0.0   \n",
       "4  0.250000  0.0  0.333333  0.339623  0.178082  0.0      1.0  0.770992    0.0   \n",
       "\n",
       "    oldpeak  slope        ca  thal  target  oldpeak_log  \n",
       "0  0.370968    1.0  0.000000   0.5     0.0     0.832909  \n",
       "1  0.241935    0.5  1.000000   0.0     1.0     0.405465  \n",
       "2  0.419355    0.5  0.666667   1.0     1.0     0.955511  \n",
       "3  0.564516    1.0  0.000000   0.0     0.0     1.252763  \n",
       "4  0.225806    0.0  0.000000   0.0     0.0     0.336472  "
      ]
     },
     "execution_count": 32,
     "metadata": {},
     "output_type": "execute_result"
    }
   ],
   "source": [
    "from sklearn.preprocessing import MinMaxScaler\n",
    "import pandas as pd\n",
    "\n",
    "# separate the target variable (last column)\n",
    "target = data.iloc[:, -1]\n",
    "\n",
    "# select the features to be scaled\n",
    "X = data.iloc[:, :-1]\n",
    "\n",
    "# initialize the scaler\n",
    "scaler = MinMaxScaler()\n",
    "\n",
    "# fit and transform the features\n",
    "scaled_features = scaler.fit_transform(X)\n",
    "\n",
    "# create a new DataFrame with the scaled features\n",
    "df_scaled = pd.DataFrame(scaled_features, columns=X.columns)\n",
    "\n",
    "# concatenate the target variable and the scaled features\n",
    "df_scaled = pd.concat([df_scaled, target], axis=1)\n",
    "df_scaled.head()\n"
   ]
  },
  {
   "cell_type": "markdown",
   "id": "aed21fc1",
   "metadata": {},
   "source": [
    "## Standardization "
   ]
  },
  {
   "cell_type": "markdown",
   "id": "8f6af4ac",
   "metadata": {},
   "source": [
    "### Z-score standardization "
   ]
  },
  {
   "cell_type": "markdown",
   "id": "d2945489",
   "metadata": {},
   "source": [
    "#### Z-score standardization is a common technique used to standardize a dataset by subtracting the mean of each feature and then dividing by its standard deviation. The resulting values are transformed to have a mean of 0 and a standard deviation of 1, which is also known as the standard normal distribution.\n",
    "Z-score standardization is a useful technique for comparing variables that have different scales, as it transforms all variables to a common scale. It is commonly used in machine learning algorithms that require standardized data as input, such as principal component analysis (PCA), linear regression, and logistic regression.\n",
    "\n",
    "For example, if you have a dataframe with several columns, some of which represent categorical data or binary data, Z-score standardization may not be appropriate for those columns. It's generally more appropriate to apply Z-score standardization to continuous numerical data, such as age, income, or weight."
   ]
  },
  {
   "cell_type": "code",
   "execution_count": 34,
   "id": "98ad2e20",
   "metadata": {},
   "outputs": [
    {
     "data": {
      "text/html": [
       "<div>\n",
       "<style scoped>\n",
       "    .dataframe tbody tr th:only-of-type {\n",
       "        vertical-align: middle;\n",
       "    }\n",
       "\n",
       "    .dataframe tbody tr th {\n",
       "        vertical-align: top;\n",
       "    }\n",
       "\n",
       "    .dataframe thead th {\n",
       "        text-align: right;\n",
       "    }\n",
       "</style>\n",
       "<table border=\"1\" class=\"dataframe\">\n",
       "  <thead>\n",
       "    <tr style=\"text-align: right;\">\n",
       "      <th></th>\n",
       "      <th>age</th>\n",
       "      <th>trestbps</th>\n",
       "      <th>chol</th>\n",
       "      <th>thalach</th>\n",
       "    </tr>\n",
       "  </thead>\n",
       "  <tbody>\n",
       "    <tr>\n",
       "      <th>0</th>\n",
       "      <td>0.948726</td>\n",
       "      <td>0.757525</td>\n",
       "      <td>-0.264900</td>\n",
       "      <td>0.017197</td>\n",
       "    </tr>\n",
       "    <tr>\n",
       "      <th>1</th>\n",
       "      <td>1.392002</td>\n",
       "      <td>1.611220</td>\n",
       "      <td>0.760415</td>\n",
       "      <td>-1.821905</td>\n",
       "    </tr>\n",
       "    <tr>\n",
       "      <th>2</th>\n",
       "      <td>1.392002</td>\n",
       "      <td>-0.665300</td>\n",
       "      <td>-0.342283</td>\n",
       "      <td>-0.902354</td>\n",
       "    </tr>\n",
       "    <tr>\n",
       "      <th>3</th>\n",
       "      <td>-1.932564</td>\n",
       "      <td>-0.096170</td>\n",
       "      <td>0.063974</td>\n",
       "      <td>1.637359</td>\n",
       "    </tr>\n",
       "    <tr>\n",
       "      <th>4</th>\n",
       "      <td>-1.489288</td>\n",
       "      <td>-0.096170</td>\n",
       "      <td>-0.825922</td>\n",
       "      <td>0.980537</td>\n",
       "    </tr>\n",
       "  </tbody>\n",
       "</table>\n",
       "</div>"
      ],
      "text/plain": [
       "        age  trestbps      chol   thalach\n",
       "0  0.948726  0.757525 -0.264900  0.017197\n",
       "1  1.392002  1.611220  0.760415 -1.821905\n",
       "2  1.392002 -0.665300 -0.342283 -0.902354\n",
       "3 -1.932564 -0.096170  0.063974  1.637359\n",
       "4 -1.489288 -0.096170 -0.825922  0.980537"
      ]
     },
     "execution_count": 34,
     "metadata": {},
     "output_type": "execute_result"
    }
   ],
   "source": [
    "\n",
    "from sklearn.preprocessing import StandardScaler\n",
    "# select columns to standardize\n",
    "cols_to_standardize = ['age', 'trestbps', 'chol',\"thalach\"]\n",
    "\n",
    "# apply Z-score standardization to selected columns\n",
    "scaler = StandardScaler()\n",
    "data[cols_to_standardize] = scaler.fit_transform(data[cols_to_standardize])\n",
    "data[cols_to_standardize] .head()"
   ]
  },
  {
   "cell_type": "markdown",
   "id": "0e4c1095",
   "metadata": {},
   "source": [
    "### 2.RobustScaler"
   ]
  },
  {
   "cell_type": "markdown",
   "id": "062a3614",
   "metadata": {},
   "source": [
    "#### RobustScaler is a method of scaling data that is similar to standardization. It is a type of feature scaling that is more robust to the presence of outliers in the data compared to other scaling methods like MinMaxScaler or StandardScaler.\n",
    "\n",
    "Like standardization, RobustScaler scales the features to have a mean of 0 and a standard deviation of 1. However, instead of using the mean and standard deviation of the entire dataset, RobustScaler uses the median and interquartile range (IQR) to scale the data.\n",
    "\n",
    "The interquartile range (IQR) is defined as the difference between the 75th percentile (Q3) and the 25th percentile (Q1) of the data. It is used as a measure of the spread of the middle 50% of the data, and is less sensitive to outliers than the standard deviation.\n",
    "RobustScaler is a good choice for data that contains outliers, since it is less sensitive to their influence on the scaling of the data.\n",
    "\n",
    "Robust scaling is typically used to scale features that have a lot of outliers or are not normally distributed. Therefore, if there are columns in the dataset that do not have outliers or have a normal distribution, it may not be necessary to apply robust scaling to those columns."
   ]
  },
  {
   "cell_type": "code",
   "execution_count": 43,
   "id": "2c195598",
   "metadata": {},
   "outputs": [
    {
     "data": {
      "text/html": [
       "<div>\n",
       "<style scoped>\n",
       "    .dataframe tbody tr th:only-of-type {\n",
       "        vertical-align: middle;\n",
       "    }\n",
       "\n",
       "    .dataframe tbody tr th {\n",
       "        vertical-align: top;\n",
       "    }\n",
       "\n",
       "    .dataframe thead th {\n",
       "        text-align: right;\n",
       "    }\n",
       "</style>\n",
       "<table border=\"1\" class=\"dataframe\">\n",
       "  <thead>\n",
       "    <tr style=\"text-align: right;\">\n",
       "      <th></th>\n",
       "      <th>trestbps</th>\n",
       "      <th>chol</th>\n",
       "      <th>thalach</th>\n",
       "    </tr>\n",
       "  </thead>\n",
       "  <tbody>\n",
       "    <tr>\n",
       "      <th>0</th>\n",
       "      <td>0.75</td>\n",
       "      <td>-0.125000</td>\n",
       "      <td>-0.092308</td>\n",
       "    </tr>\n",
       "    <tr>\n",
       "      <th>1</th>\n",
       "      <td>1.50</td>\n",
       "      <td>0.703125</td>\n",
       "      <td>-1.384615</td>\n",
       "    </tr>\n",
       "    <tr>\n",
       "      <th>2</th>\n",
       "      <td>-0.50</td>\n",
       "      <td>-0.187500</td>\n",
       "      <td>-0.738462</td>\n",
       "    </tr>\n",
       "    <tr>\n",
       "      <th>3</th>\n",
       "      <td>0.00</td>\n",
       "      <td>0.140625</td>\n",
       "      <td>1.046154</td>\n",
       "    </tr>\n",
       "    <tr>\n",
       "      <th>4</th>\n",
       "      <td>0.00</td>\n",
       "      <td>-0.578125</td>\n",
       "      <td>0.584615</td>\n",
       "    </tr>\n",
       "  </tbody>\n",
       "</table>\n",
       "</div>"
      ],
      "text/plain": [
       "   trestbps      chol   thalach\n",
       "0      0.75 -0.125000 -0.092308\n",
       "1      1.50  0.703125 -1.384615\n",
       "2     -0.50 -0.187500 -0.738462\n",
       "3      0.00  0.140625  1.046154\n",
       "4      0.00 -0.578125  0.584615"
      ]
     },
     "execution_count": 43,
     "metadata": {},
     "output_type": "execute_result"
    }
   ],
   "source": [
    "from sklearn.preprocessing import RobustScaler\n",
    "import pandas as pd\n",
    "\n",
    "data2 = pd.read_csv(\"Heart_disease_cleveland_new.csv\")\n",
    "dat = data2[['trestbps', 'chol', 'thalach']]\n",
    "\n",
    "# create an instance of RobustScaler\n",
    "scaler = RobustScaler()\n",
    "\n",
    "# fit and transform the data\n",
    "scaled_data = scaler.fit_transform(dat)\n",
    "\n",
    "# create a new dataframe with the scaled data\n",
    "df_scaled = pd.DataFrame(scaled_data, columns=['trestbps', 'chol', 'thalach'])\n",
    "df_scaled.head()"
   ]
  }
 ],
 "metadata": {
  "kernelspec": {
   "display_name": "Python 3 (ipykernel)",
   "language": "python",
   "name": "python3"
  },
  "language_info": {
   "codemirror_mode": {
    "name": "ipython",
    "version": 3
   },
   "file_extension": ".py",
   "mimetype": "text/x-python",
   "name": "python",
   "nbconvert_exporter": "python",
   "pygments_lexer": "ipython3",
   "version": "3.9.13"
  }
 },
 "nbformat": 4,
 "nbformat_minor": 5
}
